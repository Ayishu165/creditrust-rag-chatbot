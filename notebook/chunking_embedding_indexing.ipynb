{
 "cells": [
  {
   "cell_type": "code",
   "execution_count": 1,
   "id": "645fb1e9",
   "metadata": {},
   "outputs": [],
   "source": [
    "import pandas as pd\n",
    "\n"
   ]
  },
  {
   "cell_type": "code",
   "execution_count": 3,
   "id": "964a38e3",
   "metadata": {},
   "outputs": [
    {
     "data": {
      "text/html": [
       "<div>\n",
       "<style scoped>\n",
       "    .dataframe tbody tr th:only-of-type {\n",
       "        vertical-align: middle;\n",
       "    }\n",
       "\n",
       "    .dataframe tbody tr th {\n",
       "        vertical-align: top;\n",
       "    }\n",
       "\n",
       "    .dataframe thead th {\n",
       "        text-align: right;\n",
       "    }\n",
       "</style>\n",
       "<table border=\"1\" class=\"dataframe\">\n",
       "  <thead>\n",
       "    <tr style=\"text-align: right;\">\n",
       "      <th></th>\n",
       "      <th>Product</th>\n",
       "      <th>cleaned_narrative</th>\n",
       "    </tr>\n",
       "  </thead>\n",
       "  <tbody>\n",
       "    <tr>\n",
       "      <th>0</th>\n",
       "      <td>Credit card</td>\n",
       "      <td>a xxxx xxxx card was opened under my name by a...</td>\n",
       "    </tr>\n",
       "    <tr>\n",
       "      <th>1</th>\n",
       "      <td>Credit card</td>\n",
       "      <td>dear cfpb i have a secured credit card with ci...</td>\n",
       "    </tr>\n",
       "    <tr>\n",
       "      <th>2</th>\n",
       "      <td>Credit card</td>\n",
       "      <td>i have a citi rewards cards the credit balance...</td>\n",
       "    </tr>\n",
       "    <tr>\n",
       "      <th>3</th>\n",
       "      <td>Credit card</td>\n",
       "      <td>bi am writing to dispute the following charges...</td>\n",
       "    </tr>\n",
       "    <tr>\n",
       "      <th>4</th>\n",
       "      <td>Credit card</td>\n",
       "      <td>although the account had been deemed closed i ...</td>\n",
       "    </tr>\n",
       "  </tbody>\n",
       "</table>\n",
       "</div>"
      ],
      "text/plain": [
       "       Product                                  cleaned_narrative\n",
       "0  Credit card  a xxxx xxxx card was opened under my name by a...\n",
       "1  Credit card  dear cfpb i have a secured credit card with ci...\n",
       "2  Credit card  i have a citi rewards cards the credit balance...\n",
       "3  Credit card  bi am writing to dispute the following charges...\n",
       "4  Credit card  although the account had been deemed closed i ..."
      ]
     },
     "execution_count": 3,
     "metadata": {},
     "output_type": "execute_result"
    }
   ],
   "source": [
    "# Load preprocessed data\n",
    "df = pd.read_csv(\"../data/filtered_complaints.csv\")\n",
    "# Display first few rows\n",
    "df[['Product', 'cleaned_narrative']].head()"
   ]
  },
  {
   "cell_type": "code",
   "execution_count": 4,
   "id": "69bf41d8",
   "metadata": {},
   "outputs": [],
   "source": [
    "from langchain.text_splitter import RecursiveCharacterTextSplitter\n"
   ]
  },
  {
   "cell_type": "code",
   "execution_count": null,
   "id": "7d6f25b7",
   "metadata": {},
   "outputs": [
    {
     "name": "stdout",
     "output_type": "stream",
     "text": [
      "Total chunks created: 412349\n"
     ]
    }
   ],
   "source": [
    "# 2. Chunk Text Using LangChain's\n",
    "# Initialize splitter\n",
    "text_splitter = RecursiveCharacterTextSplitter(\n",
    "    chunk_size=300,       # You can adjust this\n",
    "    chunk_overlap=50      # Overlap to maintain context\n",
    ")\n",
    "\n",
    "# Apply chunking to each narrative\n",
    "docs = []\n",
    "for idx, row in df.iterrows():\n",
    "    chunks = text_splitter.split_text(row['cleaned_narrative'])\n",
    "    for chunk in chunks:\n",
    "        docs.append({\n",
    "            \"complaint_id\": idx,\n",
    "            \"product\": row['Product'],\n",
    "            \"text\": chunk\n",
    "        })\n",
    "\n",
    "print(f\"Total chunks created: {len(docs)}\")\n"
   ]
  },
  {
   "cell_type": "code",
   "execution_count": 6,
   "id": "84de2bab",
   "metadata": {},
   "outputs": [
    {
     "name": "stderr",
     "output_type": "stream",
     "text": [
      "d:\\kaimtenx\\project\\week6\\chatbotay\\.venv\\lib\\site-packages\\tqdm\\auto.py:21: TqdmWarning: IProgress not found. Please update jupyter and ipywidgets. See https://ipywidgets.readthedocs.io/en/stable/user_install.html\n",
      "  from .autonotebook import tqdm as notebook_tqdm\n"
     ]
    }
   ],
   "source": [
    "from sentence_transformers import SentenceTransformer"
   ]
  },
  {
   "cell_type": "code",
   "execution_count": null,
   "id": "39af1687",
   "metadata": {},
   "outputs": [],
   "source": [
    "#3. Choose and Load an Embedding Model\n",
    "# # Load embedding model\n",
    "model = SentenceTransformer('all-MiniLM-L6-v2')\n"
   ]
  },
  {
   "cell_type": "code",
   "execution_count": 8,
   "id": "0f3d588a",
   "metadata": {},
   "outputs": [
    {
     "name": "stderr",
     "output_type": "stream",
     "text": [
      "Batches: 100%|██████████| 12886/12886 [1:08:45<00:00,  3.12it/s]\n"
     ]
    }
   ],
   "source": [
    "#4. Generate Embeddings for Chunks\n",
    "# Get all text chunks\n",
    "texts = [doc['text'] for doc in docs]\n",
    "\n",
    "# Generate embeddings\n",
    "embeddings = model.encode(texts, show_progress_bar=True)\n"
   ]
  },
  {
   "cell_type": "code",
   "execution_count": 9,
   "id": "196e5bee",
   "metadata": {},
   "outputs": [],
   "source": [
    "import chromadb\n",
    "from chromadb.utils import embedding_functions"
   ]
  },
  {
   "cell_type": "code",
   "execution_count": 10,
   "id": "dd2a5ede",
   "metadata": {},
   "outputs": [],
   "source": [
    "# Set Up ChromaDB Collection\n",
    "\n",
    "# Create persistent ChromaDB client\n",
    "chroma_client = chromadb.PersistentClient(path=\"../vector_store/chroma\")\n",
    "\n",
    "# Create embedding function using sentence-transformers\n",
    "embedding_fn = embedding_functions.SentenceTransformerEmbeddingFunction(\n",
    "    model_name=\"all-MiniLM-L6-v2\"\n",
    ")\n",
    "\n",
    "# Create (or get) collection\n",
    "collection = chroma_client.get_or_create_collection(\n",
    "    name=\"complaints\",\n",
    "    embedding_function=embedding_fn\n",
    ")\n"
   ]
  },
  {
   "cell_type": "code",
   "execution_count": 13,
   "id": "be444026",
   "metadata": {},
   "outputs": [],
   "source": [
    "from tqdm import tqdm"
   ]
  },
  {
   "cell_type": "code",
   "execution_count": 14,
   "id": "eab84b2d",
   "metadata": {},
   "outputs": [
    {
     "name": "stdout",
     "output_type": "stream",
     "text": [
      "🚀 Adding vectors to ChromaDB in batches...\n"
     ]
    },
    {
     "name": "stderr",
     "output_type": "stream",
     "text": [
      "Adding to ChromaDB: 100%|██████████| 83/83 [1:23:07<00:00, 60.09s/it] "
     ]
    },
    {
     "name": "stdout",
     "output_type": "stream",
     "text": [
      "✅ Successfully stored 412349 vectors in ChromaDB.\n"
     ]
    },
    {
     "name": "stderr",
     "output_type": "stream",
     "text": [
      "\n"
     ]
    }
   ],
   "source": [
    "# -------------------------\n",
    "# Step 4: Prepare Data and Add to ChromaDB\n",
    "# -------------------------\n",
    "\n",
    "# Constants\n",
    "MAX_BATCH_SIZE = 5000  # must be ≤ 5461\n",
    "\n",
    "# Generate unique string IDs\n",
    "ids = [str(i) for i in range(len(docs))]\n",
    "\n",
    "# Extract text and metadata\n",
    "documents = [doc[\"text\"] for doc in docs]\n",
    "metadatas = [{\"complaint_id\": doc[\"complaint_id\"], \"product\": doc[\"product\"]} for doc in docs]\n",
    "\n",
    "# Sanity check\n",
    "assert len(ids) == len(documents) == len(metadatas), \"❌ Mismatch in data lengths!\"\n",
    "\n",
    "# Add in batches\n",
    "print(\"🚀 Adding vectors to ChromaDB in batches...\")\n",
    "for i in tqdm(range(0, len(ids), MAX_BATCH_SIZE), desc=\"Adding to ChromaDB\"):\n",
    "    try:\n",
    "        batch_ids = ids[i:i + MAX_BATCH_SIZE]\n",
    "        batch_docs = documents[i:i + MAX_BATCH_SIZE]\n",
    "        batch_meta = metadatas[i:i + MAX_BATCH_SIZE]\n",
    "\n",
    "        collection.add(\n",
    "            ids=batch_ids,\n",
    "            documents=batch_docs,\n",
    "            metadatas=batch_meta\n",
    "        )\n",
    "    except Exception as e:\n",
    "        print(f\"❌ Error adding batch {i // MAX_BATCH_SIZE + 1}: {e}\")\n",
    "\n",
    "print(f\"✅ Successfully stored {len(ids)} vectors in ChromaDB.\")\n"
   ]
  },
  {
   "cell_type": "code",
   "execution_count": null,
   "id": "b9ddf168",
   "metadata": {},
   "outputs": [],
   "source": []
  }
 ],
 "metadata": {
  "kernelspec": {
   "display_name": ".venv",
   "language": "python",
   "name": "python3"
  },
  "language_info": {
   "codemirror_mode": {
    "name": "ipython",
    "version": 3
   },
   "file_extension": ".py",
   "mimetype": "text/x-python",
   "name": "python",
   "nbconvert_exporter": "python",
   "pygments_lexer": "ipython3",
   "version": "3.10.11"
  }
 },
 "nbformat": 4,
 "nbformat_minor": 5
}
