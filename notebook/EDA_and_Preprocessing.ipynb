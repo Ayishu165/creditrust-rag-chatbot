{
 "cells": [
  {
   "cell_type": "code",
   "execution_count": 1,
   "id": "d35fb54b",
   "metadata": {},
   "outputs": [],
   "source": [
    "import pandas as pd\n",
    "import matplotlib.pyplot as plt\n",
    "import seaborn as sns\n",
    "import re\n",
    "import os"
   ]
  },
  {
   "cell_type": "code",
   "execution_count": 2,
   "id": "5d6587f6",
   "metadata": {},
   "outputs": [
    {
     "name": "stderr",
     "output_type": "stream",
     "text": [
      "C:\\Users\\ayish\\AppData\\Local\\Temp\\ipykernel_9344\\3332607674.py:3: DtypeWarning: Columns (16) have mixed types. Specify dtype option on import or set low_memory=False.\n",
      "  df = pd.read_csv(raw_data_path)\n"
     ]
    },
    {
     "name": "stdout",
     "output_type": "stream",
     "text": [
      "🔹 Sample rows from dataset:\n",
      "  Date received                                            Product  \\\n",
      "0    2025-06-20  Credit reporting or other personal consumer re...   \n",
      "1    2025-06-20                                    Debt collection   \n",
      "2    2025-06-20  Credit reporting or other personal consumer re...   \n",
      "3    2025-06-20  Credit reporting or other personal consumer re...   \n",
      "4    2025-06-20  Credit reporting or other personal consumer re...   \n",
      "\n",
      "               Sub-product                                 Issue  \\\n",
      "0         Credit reporting  Incorrect information on your report   \n",
      "1  Telecommunications debt     Attempts to collect debt not owed   \n",
      "2         Credit reporting           Improper use of your report   \n",
      "3         Credit reporting           Improper use of your report   \n",
      "4         Credit reporting  Incorrect information on your report   \n",
      "\n",
      "                                       Sub-issue Consumer complaint narrative  \\\n",
      "0            Information belongs to someone else                          NaN   \n",
      "1                              Debt is not yours                          NaN   \n",
      "2  Reporting company used your report improperly                          NaN   \n",
      "3  Reporting company used your report improperly                          NaN   \n",
      "4                       Account status incorrect                          NaN   \n",
      "\n",
      "                             Company public response  \\\n",
      "0                                                NaN   \n",
      "1  Company can't verify or dispute the facts in t...   \n",
      "2                                                NaN   \n",
      "3                                                NaN   \n",
      "4                                                NaN   \n",
      "\n",
      "                                        Company State ZIP code Tags  \\\n",
      "0           Experian Information Solutions Inc.    FL    32092  NaN   \n",
      "1  Eastern Account Systems of Connecticut, Inc.    FL    342XX  NaN   \n",
      "2        TRANSUNION INTERMEDIATE HOLDINGS, INC.    AZ    85225  NaN   \n",
      "3           Experian Information Solutions Inc.    AZ    85225  NaN   \n",
      "4           Experian Information Solutions Inc.    IL    60628  NaN   \n",
      "\n",
      "  Consumer consent provided? Submitted via Date sent to company  \\\n",
      "0                        NaN           Web           2025-06-20   \n",
      "1                        NaN           Web           2025-06-20   \n",
      "2                        NaN           Web           2025-06-20   \n",
      "3                        NaN           Web           2025-06-20   \n",
      "4                        NaN           Web           2025-06-20   \n",
      "\n",
      "  Company response to consumer Timely response? Consumer disputed?  \\\n",
      "0                  In progress              Yes                NaN   \n",
      "1      Closed with explanation              Yes                NaN   \n",
      "2                  In progress              Yes                NaN   \n",
      "3                  In progress              Yes                NaN   \n",
      "4                  In progress              Yes                NaN   \n",
      "\n",
      "   Complaint ID  \n",
      "0      14195687  \n",
      "1      14195688  \n",
      "2      14195689  \n",
      "3      14195690  \n",
      "4      14195692  \n"
     ]
    }
   ],
   "source": [
    "# Load dataset\n",
    "raw_data_path = \"../data/complaints.csv\"\n",
    "df = pd.read_csv(raw_data_path)\n",
    "\n",
    "# Show first few rows\n",
    "print(\"🔹 Sample rows from dataset:\")\n",
    "print(df.head())\n"
   ]
  },
  {
   "cell_type": "code",
   "execution_count": 3,
   "id": "0961648a",
   "metadata": {},
   "outputs": [
    {
     "name": "stdout",
     "output_type": "stream",
     "text": [
      "\n",
      "🔹 Column info:\n",
      "<class 'pandas.core.frame.DataFrame'>\n",
      "RangeIndex: 9609797 entries, 0 to 9609796\n",
      "Data columns (total 18 columns):\n",
      " #   Column                        Dtype \n",
      "---  ------                        ----- \n",
      " 0   Date received                 object\n",
      " 1   Product                       object\n",
      " 2   Sub-product                   object\n",
      " 3   Issue                         object\n",
      " 4   Sub-issue                     object\n",
      " 5   Consumer complaint narrative  object\n",
      " 6   Company public response       object\n",
      " 7   Company                       object\n",
      " 8   State                         object\n",
      " 9   ZIP code                      object\n",
      " 10  Tags                          object\n",
      " 11  Consumer consent provided?    object\n",
      " 12  Submitted via                 object\n",
      " 13  Date sent to company          object\n",
      " 14  Company response to consumer  object\n",
      " 15  Timely response?              object\n",
      " 16  Consumer disputed?            object\n",
      " 17  Complaint ID                  int64 \n",
      "dtypes: int64(1), object(17)\n",
      "memory usage: 1.3+ GB\n",
      "None\n"
     ]
    }
   ],
   "source": [
    "# Show column names and datatypes\n",
    "print(\"\\n🔹 Column info:\")\n",
    "print(df.info())"
   ]
  },
  {
   "cell_type": "code",
   "execution_count": 4,
   "id": "818fd0c5",
   "metadata": {},
   "outputs": [
    {
     "name": "stdout",
     "output_type": "stream",
     "text": [
      "\n",
      "🔹 Complaint count per product:\n",
      "Product\n",
      "Credit reporting or other personal consumer reports                             4834855\n",
      "Credit reporting, credit repair services, or other personal consumer reports    2163857\n",
      "Debt collection                                                                  799197\n",
      "Mortgage                                                                         422254\n",
      "Checking or savings account                                                      291178\n",
      "Credit card                                                                      226686\n",
      "Credit card or prepaid card                                                      206369\n",
      "Money transfer, virtual currency, or money service                               145066\n",
      "Credit reporting                                                                 140429\n",
      "Student loan                                                                     109717\n",
      "Bank account or service                                                           86205\n",
      "Vehicle loan or lease                                                             72957\n",
      "Consumer Loan                                                                     31574\n",
      "Payday loan, title loan, or personal loan                                         30641\n",
      "Payday loan, title loan, personal loan, or advance loan                           16514\n",
      "Prepaid card                                                                      15280\n",
      "Payday loan                                                                        5541\n",
      "Money transfers                                                                    5354\n",
      "Debt or credit management                                                          5047\n",
      "Other financial service                                                            1058\n",
      "Virtual currency                                                                     18\n",
      "Name: count, dtype: int64\n"
     ]
    },
    {
     "data": {
      "image/png": "[encoded data removed]",
      "text/plain": [
       "<Figure size 1000x400 with 1 Axes>"
      ]
     },
     "metadata": {},
     "output_type": "display_data"
    }
   ],
   "source": [
    "#  Task 1.2 – Perform initial EDA\n",
    "# --------------------------------\n",
    "# - Understand the distribution of products\n",
    "# - Check length of complaint texts\n",
    "# - Identify missing or empty narratives\n",
    "\n",
    "# Count product distribution\n",
    "print(\"\\n🔹 Complaint count per product:\")\n",
    "print(df['Product'].value_counts())\n",
    "\n",
    "# Add complaint length column (word count)\n",
    "df['narrative_length'] = df['Consumer complaint narrative'].fillna(\"\").apply(lambda x: len(str(x).split()))\n",
    "\n",
    "# Plot length distribution\n",
    "plt.figure(figsize=(10,4))\n",
    "sns.histplot(df['narrative_length'], bins=50)\n",
    "plt.title(\"Distribution of Complaint Narrative Lengths\")\n",
    "plt.xlabel(\"Word Count\")\n",
    "plt.ylabel(\"Frequency\")\n",
    "plt.grid(True)\n",
    "plt.show()\n"
   ]
  },
  {
   "cell_type": "code",
   "execution_count": 5,
   "id": "3567ee68",
   "metadata": {},
   "outputs": [
    {
     "name": "stdout",
     "output_type": "stream",
     "text": [
      "\n",
      "🔹 Complaints with missing narratives: 6629041\n",
      "🔹 Complaints with empty narratives: 6629041\n"
     ]
    }
   ],
   "source": [
    "# Check how many rows have missing or empty narratives\n",
    "missing_count = df['Consumer complaint narrative'].isnull().sum()\n",
    "empty_count = (df['Consumer complaint narrative'].fillna(\"\").str.strip() == \"\").sum()\n",
    "print(f\"\\n🔹 Complaints with missing narratives: {missing_count}\")\n",
    "print(f\"🔹 Complaints with empty narratives: {empty_count}\")"
   ]
  },
  {
   "cell_type": "code",
   "execution_count": 6,
   "id": "e0cf776f",
   "metadata": {},
   "outputs": [
    {
     "name": "stdout",
     "output_type": "stream",
     "text": [
      "\n",
      "🔹 Filtered dataset size: (82164, 19)\n",
      "🔹 Products retained after filtering:\n",
      "Product\n",
      "Credit card        80667\n",
      "Money transfers     1497\n",
      "Name: count, dtype: int64\n"
     ]
    }
   ],
   "source": [
    "# 🧠 Task 1.3 – Filter dataset for target products and valid narratives\n",
    "# --------------------------------------------------------------------\n",
    "# - Keep only 5 specified product types\n",
    "# - Remove rows with missing or empty complaint narratives\n",
    "\n",
    "target_products = [\n",
    "    'Credit card',\n",
    "    'Personal loan',\n",
    "    'Buy Now, Pay Later',\n",
    "    'Savings account',\n",
    "    'Money transfers'\n",
    "]\n",
    "\n",
    "# Filter by product\n",
    "df = df[df['Product'].isin(target_products)]\n",
    "\n",
    "# Drop complaints with null or empty narrative\n",
    "df = df[df['Consumer complaint narrative'].notnull()]\n",
    "df = df[df['Consumer complaint narrative'].str.strip() != \"\"]\n",
    "\n",
    "print(f\"\\n🔹 Filtered dataset size: {df.shape}\")\n",
    "print(\"🔹 Products retained after filtering:\")\n",
    "print(df['Product'].value_counts())"
   ]
  },
  {
   "cell_type": "code",
   "execution_count": 7,
   "id": "db3a0433",
   "metadata": {},
   "outputs": [
    {
     "name": "stdout",
     "output_type": "stream",
     "text": [
      "\n",
      "🔹 Example cleaned text:\n",
      "                            Consumer complaint narrative  \\\n",
      "12237  A XXXX XXXX card was opened under my name by a...   \n",
      "13280  Dear CFPB, I have a secured credit card with c...   \n",
      "13506  I have a Citi rewards cards. The credit balanc...   \n",
      "\n",
      "                                            cleaned_text  \n",
      "12237  a xxxx xxxx card was opened under my name by a...  \n",
      "13280  dear cfpb i have a secured credit card with ci...  \n",
      "13506  i have a citi rewards cards the credit balance...  \n"
     ]
    }
   ],
   "source": [
    "# 🧠 Task 1.4 – Clean the text narrative for better embeddings\n",
    "# ------------------------------------------------------------\n",
    "# - Lowercase all text\n",
    "# - Remove special characters\n",
    "# - Normalize whitespace\n",
    "# - Remove boilerplate phrases (optional)\n",
    "\n",
    "def clean_text(text):\n",
    "    text = text.lower()  # lowercase\n",
    "    text = re.sub(r'[^a-zA-Z0-9\\s]', '', text)  # remove special characters\n",
    "    text = re.sub(r'\\s+', ' ', text).strip()  # normalize whitespace\n",
    "    return text\n",
    "\n",
    "# Apply cleaning\n",
    "df['cleaned_text'] = df['Consumer complaint narrative'].apply(clean_text)\n",
    "\n",
    "# Preview cleaned result\n",
    "print(\"\\n🔹 Example cleaned text:\")\n",
    "print(df[['Consumer complaint narrative', 'cleaned_text']].head(3))"
   ]
  },
  {
   "cell_type": "code",
   "execution_count": 8,
   "id": "c743764d",
   "metadata": {},
   "outputs": [
    {
     "name": "stdout",
     "output_type": "stream",
     "text": [
      "\n",
      "✅ Cleaned data saved to: ../data/filtered_complaints.csv\n"
     ]
    }
   ],
   "source": [
    "# 🧠 Task 1.5 – Save the cleaned dataset\n",
    "# --------------------------------------\n",
    "# Save the result as `data/filtered_complaints.csv` for Task 2\n",
    "output_path = \"../data/filtered_complaints.csv\"\n",
    "os.makedirs(\"data\", exist_ok=True)\n",
    "df.to_csv(output_path, index=False)\n",
    "\n",
    "print(f\"\\n✅ Cleaned data saved to: {output_path}\")\n"
   ]
  },
  {
   "cell_type": "code",
   "execution_count": 9,
   "id": "a96e45f8",
   "metadata": {},
   "outputs": [
    {
     "name": "stdout",
     "output_type": "stream",
     "text": [
      "<class 'pandas.core.frame.DataFrame'>\n",
      "RangeIndex: 82164 entries, 0 to 82163\n",
      "Data columns (total 20 columns):\n",
      " #   Column                        Non-Null Count  Dtype \n",
      "---  ------                        --------------  ----- \n",
      " 0   Date received                 82164 non-null  object\n",
      " 1   Product                       82164 non-null  object\n",
      " 2   Sub-product                   63327 non-null  object\n",
      " 3   Issue                         82164 non-null  object\n",
      " 4   Sub-issue                     61770 non-null  object\n",
      " 5   Consumer complaint narrative  82164 non-null  object\n",
      " 6   Company public response       39566 non-null  object\n",
      " 7   Company                       82164 non-null  object\n",
      " 8   State                         81857 non-null  object\n",
      " 9   ZIP code                      82164 non-null  object\n",
      " 10  Tags                          14889 non-null  object\n",
      " 11  Consumer consent provided?    82164 non-null  object\n",
      " 12  Submitted via                 82164 non-null  object\n",
      " 13  Date sent to company          82164 non-null  object\n",
      " 14  Company response to consumer  82164 non-null  object\n",
      " 15  Timely response?              82164 non-null  object\n",
      " 16  Consumer disputed?            20334 non-null  object\n",
      " 17  Complaint ID                  82164 non-null  int64 \n",
      " 18  narrative_length              82164 non-null  int64 \n",
      " 19  cleaned_text                  82164 non-null  object\n",
      "dtypes: int64(2), object(18)\n",
      "memory usage: 12.5+ MB\n"
     ]
    }
   ],
   "source": [
    "#load cleaned data\n",
    "pd =pd.read_csv(\"../data/filtered_complaints.csv\")\n",
    "pd.info()"
   ]
  }
 ],
 "metadata": {
  "kernelspec": {
   "display_name": ".venv",
   "language": "python",
   "name": "python3"
  },
  "language_info": {
   "codemirror_mode": {
    "name": "ipython",
    "version": 3
   },
   "file_extension": ".py",
   "mimetype": "text/x-python",
   "name": "python",
   "nbconvert_exporter": "python",
   "pygments_lexer": "ipython3",
   "version": "3.10.11"
  }
 },
 "nbformat": 4,
 "nbformat_minor": 5
}
