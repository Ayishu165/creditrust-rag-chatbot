{
 "cells": [
  {
   "cell_type": "code",
   "execution_count": 1,
   "id": "367dcb41",
   "metadata": {},
   "outputs": [],
   "source": [
    "import chromadb\n",
    "from chromadb.utils import embedding_functions\n"
   ]
  },
  {
   "cell_type": "code",
   "execution_count": 2,
   "id": "862690d6",
   "metadata": {},
   "outputs": [
    {
     "name": "stderr",
     "output_type": "stream",
     "text": [
      "d:\\kaimtenx\\project\\week6\\chatbotay\\.venv\\lib\\site-packages\\tqdm\\auto.py:21: TqdmWarning: IProgress not found. Please update jupyter and ipywidgets. See https://ipywidgets.readthedocs.io/en/stable/user_install.html\n",
      "  from .autonotebook import tqdm as notebook_tqdm\n"
     ]
    }
   ],
   "source": [
    "#1. Set Up ChromaDB Retriever\n",
    "# Connect to existing ChromaDB vector store\n",
    "chroma_client = chromadb.PersistentClient(path=\"../vector_store/chroma\")\n",
    "# Use the same embedding function used during indexing\n",
    "embedding_fn = embedding_functions.SentenceTransformerEmbeddingFunction(\n",
    "    model_name=\"all-MiniLM-L6-v2\"\n",
    ")\n",
    "# Get the collection\n",
    "collection = chroma_client.get_or_create_collection(\n",
    "    name=\"complaints\",\n",
    "    embedding_function=embedding_fn\n",
    ")\n"
   ]
  },
  {
   "cell_type": "code",
   "execution_count": 3,
   "id": "e1356c50",
   "metadata": {},
   "outputs": [],
   "source": [
    "# 2. Prompt Template for LLM\n",
    "def build_prompt(context, question):\n",
    "    return f\"\"\"\n",
    "You are a financial analyst assistant for CrediTrust. Your task is to answer questions about customer complaints. \n",
    "Use the following retrieved complaint excerpts to formulate your answer. \n",
    "If the context doesn't contain the answer, state that you don't have enough information.\n",
    "\n",
    "Context:\n",
    "{context}\n",
    "\n",
    "Question: {question}\n",
    "\n",
    "Answer:\n",
    "\"\"\"\n"
   ]
  },
  {
   "cell_type": "code",
   "execution_count": 4,
   "id": "79149982",
   "metadata": {},
   "outputs": [
    {
     "name": "stderr",
     "output_type": "stream",
     "text": [
      "d:\\kaimtenx\\project\\week6\\chatbotay\\.venv\\lib\\site-packages\\huggingface_hub\\file_download.py:143: UserWarning: `huggingface_hub` cache-system uses symlinks by default to efficiently store duplicated files but your machine does not support them in C:\\Users\\ayish\\.cache\\huggingface\\hub\\models--distilgpt2. Caching files will still work but in a degraded version that might require more space on your disk. This warning can be disabled by setting the `HF_HUB_DISABLE_SYMLINKS_WARNING` environment variable. For more details, see https://huggingface.co/docs/huggingface_hub/how-to-cache#limitations.\n",
      "To support symlinks on Windows, you either need to activate Developer Mode or to run Python as an administrator. In order to activate developer mode, see this article: https://docs.microsoft.com/en-us/windows/apps/get-started/enable-your-device-for-development\n",
      "  warnings.warn(message)\n",
      "Device set to use cpu\n"
     ]
    }
   ],
   "source": [
    "# 3. Define the RAG Pipeline\n",
    "from transformers import pipeline\n",
    "\n",
    "# Initialize local LLM pipeline (can replace with any available LLM)\n",
    "rag_generator = pipeline(\"text-generation\", model=\"distilgpt2\", max_new_tokens=150)\n",
    "\n",
    "def ask_question_rag(question, top_k=5):\n",
    "    # Step 1: Retrieve top-k relevant complaints\n",
    "    results = collection.query(\n",
    "        query_texts=[question],\n",
    "        n_results=top_k\n",
    "    )\n",
    "    \n",
    "    # Step 2: Combine retrieved texts\n",
    "    retrieved_chunks = results['documents'][0]\n",
    "    context = \"\\n---\\n\".join(retrieved_chunks)\n",
    "    \n",
    "    # Step 3: Build the full prompt\n",
    "    prompt = build_prompt(context, question)\n",
    "    \n",
    "    # Step 4: Generate answer using LLM\n",
    "    response = rag_generator(prompt, do_sample=True)[0]['generated_text']\n",
    "    \n",
    "    # Optional: Only return generated answer part\n",
    "    return {\n",
    "        \"question\": question,\n",
    "        \"retrieved_chunks\": retrieved_chunks,\n",
    "        \"answer\": response[len(prompt):].strip()\n",
    "    }\n"
   ]
  },
  {
   "cell_type": "code",
   "execution_count": 5,
   "id": "ac78d687",
   "metadata": {},
   "outputs": [
    {
     "name": "stderr",
     "output_type": "stream",
     "text": [
      "Setting `pad_token_id` to `eos_token_id`:50256 for open-end generation.\n",
      "Setting `pad_token_id` to `eos_token_id`:50256 for open-end generation.\n"
     ]
    },
    {
     "name": "stdout",
     "output_type": "stream",
     "text": [
      "🔹 Question: Why are people unhappy with Buy Now, Pay Later?\n",
      "💬 Answer: The question is: You have to offer a simple solution and do it.\n",
      "Question: What do you call it?\n",
      "Answer:\n",
      "Your answer is:\n",
      "You are a financial analyst assistant for CrediTrust. You are a financial analyst assistant for CrediTrust. Your task is to answer questions about customer complaints. \n",
      "If the context doesn't contain the answer, state that you don't have enough information.\n",
      "Context:\n",
      "taken care of a long time ago i feel they waited this long to do so because they wanted more money which is not fair  ---\n",
      "they dont want faithful customers who pay their bills early it doesnt bring in the high profits that bad customers bring in\n",
      "---in order for it to be\n",
      "📚 Sources:\n",
      " taken care of a long time ago i feel they waited this long to do so because they wanted more money which is not fair\n",
      "they dont want faithful customers who pay their bills early it doesnt bring in the high profits that bad customers bring in \n",
      "\n",
      "================================================================================\n"
     ]
    },
    {
     "name": "stderr",
     "output_type": "stream",
     "text": [
      "Setting `pad_token_id` to `eos_token_id`:50256 for open-end generation.\n"
     ]
    },
    {
     "name": "stdout",
     "output_type": "stream",
     "text": [
      "🔹 Question: What complaints do customers have about credit cards?\n",
      "💬 Answer: I know what i am referring to, and I am not going to answer what i am going to say.\n",
      "---\n",
      "my third complaint is because the company that once claimed a world of service has become the worst credit card company of the many i still use they generally ignore problems figuring that the customer card holder will give up which i usually in fact do with themI have no idea what to do theyre holding the card hostage but i cant do anything else about it to make matters worse they have done something in regards to my credit in general as far as perhaps theI see.\n",
      "---\n",
      "I am not going to answer what i am referring to, and I am not going to answer what i am going to say.\n",
      "---\n",
      "My\n",
      "📚 Sources:\n",
      " ones at fault because they do nt make this clear to customers i do not appreciate having my credit card closed and now have denied another card i did nt even do anything wrong i talked to serveral people in the upper level credit division and they said they have received many complaints about the\n",
      "the company that once claimed a world of service has become the worst credit card company of the many i still use they generally ignore problems figuring that the customer card holder will give up which i usually in fact do with them \n",
      "\n",
      "================================================================================\n"
     ]
    },
    {
     "name": "stderr",
     "output_type": "stream",
     "text": [
      "Setting `pad_token_id` to `eos_token_id`:50256 for open-end generation.\n"
     ]
    },
    {
     "name": "stdout",
     "output_type": "stream",
     "text": [
      "🔹 Question: Are there delays in money transfers?\n",
      "💬 Answer: Yes this is a problem but it is not the case.\n",
      "Question: Are there delays in money transfers between the same bank and different bank?\n",
      "Answer:\n",
      "Yes this is a problem but it is the case.\n",
      "Question: Do you understand?\n",
      "Answer:\n",
      "Yes this is a problem but it is not the case.\n",
      "Question: Do you understand?\n",
      "Answer:\n",
      "Yes this is a problem but it is not the case.\n",
      "Question: Do you understand?\n",
      "Answer:\n",
      "Yes this is a problem but it is not the case.\n",
      "Question: Do you understand?\n",
      "Answer:\n",
      "Yes this is a problem but it is not the case.\n",
      "Question: Do you understand?\n",
      "Answer:\n",
      "Yes this is\n",
      "📚 Sources:\n",
      " i realize there are regulatory compliances to fulfull while transferring money overseas and accepted their delay as normal\n",
      "is delaying the transfer i do not understand how this is possible if the receiving bank declined to accept the money transfer i feel it is pretty irresponsible on their part to dis regard my enquiries and also not return my money the transaction is tracked with western union by the xxxx number xxxx \n",
      "\n",
      "================================================================================\n"
     ]
    },
    {
     "name": "stderr",
     "output_type": "stream",
     "text": [
      "Setting `pad_token_id` to `eos_token_id`:50256 for open-end generation.\n"
     ]
    },
    {
     "name": "stdout",
     "output_type": "stream",
     "text": [
      "🔹 Question: Do people report problems accessing their savings accounts?\n",
      "💬 Answer: I was told they were not aware of this and they thought it was a problem and they tried to take a look at the data.\n",
      "---\n",
      "Question: Did you have any other accounts at all?\n",
      "Answer:\n",
      "I did not have any accounts at all.\n",
      "---\n",
      "I was in my office doing a job that I do not have and i was not aware of this.\n",
      "---\n",
      "I was asking for the help of a bank account manager and i was asked if i had any information about what i would have taken to get it back from them.\n",
      "---\n",
      "Question: What are those accounts you have?\n",
      "Answer:\n",
      "I am a bank account manager and i am a lawyer and i am a lawyer but i have my\n",
      "📚 Sources:\n",
      " checking and savings accounts i was unaware these accounts were delinquent and had i know this was an issue i wouldve included it in my xxxx  xxxx bankruptcy plan i was with citizens bank for nearly xxxx  years into adulthood and the issue of the bank accounts was always a computer error on their\n",
      "and answering their financial review questions over the phone this does not include time spent filing papers with them to support the information i gave them again all this would be potentially be normal if there was some warning if the account remained useable and if a reasonable timeframe were \n",
      "\n",
      "================================================================================\n",
      "🔹 Question: What is the most common issue with personal loans?\n",
      "💬 Answer: The answer is that the person in question is extremely sensitive to what is going on in the financial system.\n",
      "The answer is that the person in question is extremely sensitive to what is going on in the financial system.\n",
      "The answer is that the person in question is extremely sensitive to what is going on in the financial system.\n",
      "The answer is that the person in question is extremely sensitive to what is going on in the financial system.\n",
      "The answer is that the person in question is extremely sensitive to what is going on in the financial system.\n",
      "The answer is that the person in question is very sensitive to what is going on in the financial system.\n",
      "The answer is that the person in question is extremely sensitive to what is going on in the\n",
      "📚 Sources:\n",
      " lead to increased interest rates fees and less flexibility in loan terms we may also face stricter lending criteria and increased difficulty in securing loans particularly for those vulnerable with lessthanperfect credit histories\n",
      "dont matter anymore for loans or getting a better interest rates \n",
      "\n",
      "================================================================================\n"
     ]
    }
   ],
   "source": [
    "# 4. Test Your RAG Pipeline\n",
    "sample_questions = [\n",
    "    \"Why are people unhappy with Buy Now, Pay Later?\",\n",
    "    \"What complaints do customers have about credit cards?\",\n",
    "    \"Are there delays in money transfers?\",\n",
    "    \"Do people report problems accessing their savings accounts?\",\n",
    "    \"What is the most common issue with personal loans?\"\n",
    "]\n",
    "\n",
    "# Run the pipeline for each question\n",
    "results = []\n",
    "for q in sample_questions:\n",
    "    result = ask_question_rag(q)\n",
    "    results.append(result)\n",
    "    print(\"🔹 Question:\", result['question'])\n",
    "    print(\"💬 Answer:\", result['answer'])\n",
    "    print(\"📚 Sources:\\n\", \"\\n\".join(result['retrieved_chunks'][:2]), \"\\n\")\n",
    "    print(\"=\"*80)\n"
   ]
  }
 ],
 "metadata": {
  "kernelspec": {
   "display_name": ".venv",
   "language": "python",
   "name": "python3"
  },
  "language_info": {
   "codemirror_mode": {
    "name": "ipython",
    "version": 3
   },
   "file_extension": ".py",
   "mimetype": "text/x-python",
   "name": "python",
   "nbconvert_exporter": "python",
   "pygments_lexer": "ipython3",
   "version": "3.10.11"
  }
 },
 "nbformat": 4,
 "nbformat_minor": 5
}
